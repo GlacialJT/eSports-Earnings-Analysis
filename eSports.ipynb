{
 "cells": [
  {
   "cell_type": "markdown",
   "metadata": {},
   "source": [
    "# eSports Earnings Analysis"
   ]
  },
  {
   "cell_type": "code",
   "execution_count": 7,
   "metadata": {},
   "outputs": [],
   "source": [
    "# import necessary libraries\n",
    "import numpy as np\n",
    "import pandas as pd \n",
    "import seaborn as sns\n",
    "import matplotlib.pyplot as plt\n",
    "import plotly.express as px"
   ]
  },
  {
   "cell_type": "markdown",
   "metadata": {},
   "source": [
    "### Load in dataset"
   ]
  },
  {
   "cell_type": "code",
   "execution_count": 8,
   "metadata": {},
   "outputs": [],
   "source": [
    "# load datasets from local file paths\n",
    "tdf = pd.read_csv(r'highest_earning_teams.csv')\n",
    "pdf = pd.read_csv(r'highest_earning_players.csv')\n",
    "cdf = pd.read_csv(r'country-and-continent-codes-list.csv')"
   ]
  },
  {
   "cell_type": "markdown",
   "metadata": {},
   "source": [
    "### Preview basic data"
   ]
  },
  {
   "cell_type": "code",
   "execution_count": 9,
   "metadata": {},
   "outputs": [
    {
     "name": "stdout",
     "output_type": "stream",
     "text": [
      "   TeamId                TeamName  TotalUSDPrize  TotalTournaments       Game  \\\n",
      "0     760     San Francisco Shock     3105000.00                 7  Overwatch   \n",
      "1     776         London Spitfire     1591136.50                13  Overwatch   \n",
      "2     768      New York Excelsior     1572618.50                18  Overwatch   \n",
      "3     773     Philadelphia Fusion     1186278.50                15  Overwatch   \n",
      "4     766           Seoul Dynasty     1130000.00                 6  Overwatch   \n",
      "5     856        Vancouver Titans      950000.00                 4  Overwatch   \n",
      "6     769        Shanghai Dragons      755000.00                 5  Overwatch   \n",
      "7     774  Los Angeles Gladiators      709605.19                13  Overwatch   \n",
      "8     861           Atlanta Reign      596098.00                 9  Overwatch   \n",
      "9     770     Los Angeles Valiant      535000.00                 6  Overwatch   \n",
      "\n",
      "                  Genre  \n",
      "0  First-Person Shooter  \n",
      "1  First-Person Shooter  \n",
      "2  First-Person Shooter  \n",
      "3  First-Person Shooter  \n",
      "4  First-Person Shooter  \n",
      "5  First-Person Shooter  \n",
      "6  First-Person Shooter  \n",
      "7  First-Person Shooter  \n",
      "8  First-Person Shooter  \n",
      "9  First-Person Shooter  \n",
      "TeamId  TeamName  TotalUSDPrize  TotalTournaments  Game   Genre\n",
      "False   False     False          False             False  False    928\n",
      "Name: count, dtype: int64\n",
      "['Overwatch' 'Starcraft II' 'League of Legends' 'Fortnite'\n",
      " 'Counter-Strike: Global Offensive' 'Dota 2' 'PUBG' 'Heroes of the Storm'\n",
      " 'Hearthstone' 'Arena of Valor']\n",
      "['San Francisco Shock' 'London Spitfire' 'New York Excelsior'\n",
      " 'Philadelphia Fusion' 'Seoul Dynasty' 'Vancouver Titans'\n",
      " 'Shanghai Dragons' 'Los Angeles Gladiators' 'Atlanta Reign'\n",
      " 'Los Angeles Valiant' 'Team Envy' 'Hangzhou Spark' 'RunAway'\n",
      " 'Lunatic-hai' 'Boston Uprising' 'GC Busan' 'Washington Justice' 'Rogue'\n",
      " 'Team Gigantti' 'Florida Mayhem' 'Misfits' 'LGD Gaming'\n",
      " 'Osh-Tekk Warriors' 'Talon Esports' 'Flash Wolves' 'Miraculous Youngster'\n",
      " 'Team Kongdoo' 'Cloud9' 'Blank Esports' 'Houston Outlaws' 'NRG Esports'\n",
      " 'Hong Kong Attitude' 'Afreeca Freecs' 'LuxuryWatch' 'Immortals'\n",
      " 'Vici Gaming' 'Paris Eternal' 'Gen.G' 'Guangzhou Charge'\n",
      " 'ahq e-Sports Club' 'Team Skadis Gift' 'Dallas Fuel'\n",
      " 'American National Team' 'Chinese National Team' 'French National Team'\n",
      " 'Korean National Team' 'Canadian National Team' 'Bilibili Gaming'\n",
      " 'FaZe Clan' 'MVP' 'Australian National Team' 'Invictus Gaming' 'ORDER'\n",
      " 'Fnatic' 'Finnish National Team' 'Swedish National Team'\n",
      " 'British National Team' 'Toronto Defiant' 'Star Horn Royal Club'\n",
      " 'Nova eSports' 'Russian National Team' 'Lowkey Esports'\n",
      " 'German National Team' 'Spanish National Team' 'Taiwanese National Team'\n",
      " 'eUnited' 'NGA Club' 'REUNITED' 'Samsung' 'Luminosity Gaming'\n",
      " 'Brazilian National Team' 'Thai National Team' 'Team Liquid' 'DeToNator'\n",
      " 'Team Singularity' 'Ninjas in Pyjamas' 'compLexity Gaming'\n",
      " 'Danish National Team' 'Dutch National Team' 'Mindfreak' 'Winstrike Team'\n",
      " 'Singaporian National Team' 'Austrian National Team'\n",
      " 'Italian National Team' 'Japanese National Team'\n",
      " 'Norweigan National Team' 'Third Impact' 'World Elite' 'Snake Esports'\n",
      " 'Isurus Gaming' 'GamersOrigin' 'Copenhagen Flames' 'Team Celestial'\n",
      " 'Polish National Team' 'Newbee' 'OMG' 'Legacy eSports' 'Triumph'\n",
      " 'Ghost Gaming' 'Hong Kong National Team' 'Jin Air Green Wings'\n",
      " 'SK Telecom T1' 'Incredible Miracle' 'StarTale' 'ENCE eSports'\n",
      " 'KT Rolster' 'Evil Geniuses' 'Millenium' 'Splyce' 'Prime' 'ROOT Gaming'\n",
      " 'Team Acer' 'mousesports' 'Ting' 'mYinsanity' 'Old Generations'\n",
      " 'Team expert' 'CJ Entus' 'PSISTORM Gaming' 'Team SCV Life'\n",
      " 'FXOpen e-Sports' 'SlayerS' 'Dragon Phoenix Gaming' 'Woongjin Stars'\n",
      " 'STX SouL' 'CM Storm' 'Chivo SC' 'Team QLASH' 'EURONICS Gaming'\n",
      " 'Team Dignitas' 'SK Gaming' 'Axiom eSports' 'Ballistix'\n",
      " 'Team Reciprocity' 'Team Empire' 'Triumphant Song Gaming' 'AZUBU'\n",
      " 'KaiZi Gaming' 'Quantic Gaming' 'Dead Pixels' 'Team Roccat'\n",
      " 'The Gosu Crew' 'Mkers' 'Zenith of Origin' 'True eSport'\n",
      " 'ALTERNATE aTTaX' 'Raise Your Edge Gaming' 'Karont3 e-Sports Club'\n",
      " 'New Star HoSeo' 'Cascade' 'Invasion eSport' 'OSC Elite'\n",
      " 'Brave Star Gaming' 'Ocean Gaming' 'ZeNEX' 'Arma Team' 'Alliance'\n",
      " 'Radical Online X-tremists' 'mTw' 'Gama Bears' 'Wayi Spider'\n",
      " 'Alien Invasion' 'X-Team' 'ESC Gaming' 'AT Gaming' 'TitanEX1'\n",
      " 'AGO Esports' 'NewRoSoft' 'For Our Utopia' 'XMG' 'Planetkey Dynamics'\n",
      " 'Team Property' 'Western Wolves' 'Pixel 1' 'Elevate' 'J Team'\n",
      " 'FlipSid3 Tactics' 'TCM Gaming' 'Team Revolution' 'Asterion'\n",
      " 'Team SPACECRAFT' 'PanDarea' 'SBENU' \"O'Gaming\" 'Exile5'\n",
      " 'Royal Never Give Up' 'EDward Gaming' 'G2 Esports' 'Team SoloMid'\n",
      " 'Taipei Assassins' 'FunPlus Phoenix' 'Top Esports' 'ROX Gaming'\n",
      " 'Counter Logic Gaming' 'DAMWON Gaming' 'JD Gaming' 'DragonX'\n",
      " 'NaJin e-mFire' 'H2K' 'Gambit Esports' 'Suning' 'Origen'\n",
      " 'Unicorns of Love' 'DetonatioN' 'Longzhu Gaming' 'Griffin'\n",
      " 'Marines Esports' 'Moscow Five' 'I May' 'Team LDLC.com' 'Vitality'\n",
      " 'NASR eSports' 'Albus NoX Luna' 'Illuminar Gaming' '100 Thieves' 'eSuba'\n",
      " 'FlyQuest' 'KaBuM! e-Sports' 'Schalke 04 Esports' 'paiN Gaming'\n",
      " 'Saigon Jokers' 'Team Curse' 'Kaos Latin Gamers' 'INTZ eSports'\n",
      " 'Young Miracles' 'BIG' 'Dark Passage' 'Lyon Gaming' 'Rogue Warriors'\n",
      " 'MAD Lions' 'Qiao Gu Reapers' 'Positive Energy' 'Team King'\n",
      " 'Copenhagen Wolves' 'SinoDragon' 'Vega Squadron' 'Keyd Stars'\n",
      " 'Bangkok Titans' 'Maximum Impact Gaming' 'Giants Gaming'\n",
      " 'Kuala Lumpur Hunters' 'Meet Your Makers' 'ESC Ever' 'EVOS' 'LMQ'\n",
      " 'CNB e-Sports Club' 'Lazarus' 'Cooler Esport' 'Sentinels'\n",
      " 'LeStream Esport' '9z Team' 'Kungarna' 'Valhalla Vikings' 'Solary'\n",
      " 'Team Atlantis' 'Eleven Gaming' 'Virtus.pro' 'World Best Gaming'\n",
      " 'Become Legends' 'Team Secret' 'Team Kinguin' 'Gentside Esports Club'\n",
      " 'Crazy Raccoon' 'TrainHard eSport' 'Executors One' 'exceL eSports' 'MCES'\n",
      " 'Helsinki REDS' 'Supremacy' 'Natus Vincere' 'Tempo Storm'\n",
      " 'Riot Squad Esports' 'Renegades' 'Optimal Ambition' 'Oserv Esport'\n",
      " 'M10 Esports' 'Raised by Kings' 'Dynamind' 'Riddle' 'Stratum Esports'\n",
      " 'FURIA Esports' 'Team GamerLegion' 'Team Queso' 'The Chiefs eSports Club'\n",
      " 'Wave Esports' 'Built By Gamers' 'Rise Nation' 'GODSENT' 'OpTic Gaming'\n",
      " 'XSET' 'Method' 'BDS Esport' 'Ovation eSports' 'Exalty'\n",
      " 'Beşiktaş e-Sports Club' 'Fade 2 Karma' 'Grizi Esport' 'Veloce Esports'\n",
      " 'Project EVERSIO' 'Team Parallel' 'ExAequo' 'Cosa Nostra Games'\n",
      " 'Pittsburgh Knights' 'Enterprise Gaming' 'HellRaisers' 'Mock-It eSports'\n",
      " 'Team Requiem' 'Granit Gaming' 'War Legend' 'vsBANDITS' 'Rams' 'Astralis'\n",
      " 'MIBR' 'TyLoo' 'North' 'Heroic' 'Windigo Gaming' 'Space Soldiers'\n",
      " 'AVANGAR' 'Epsilon eSports' 'OG' 'Tricked eSports' 'forZe' 'Team Spirit'\n",
      " 'HAVU Gaming' 'Sprout' 'Chaos Esports Club' 'CR4ZY' 'Bravado Gaming'\n",
      " 'PENTA Sports' 'Titan eSports' 'Endpoint' 'The Imperial'\n",
      " 'Movistar Riders' 'x6tence' 'Vox Eminor' 'SJ Gaming' 'Team VeryGames'\n",
      " 'PRIDE Gaming' 'Selfless Gaming' 'Echo Fox' 'Nemiga Gaming' 'The MongolZ'\n",
      " 'BOOM Esports' 'Grayhound Gaming' '3DMAX' 'Team One' 'PACT' 'ARCY'\n",
      " 'Swole Patrol' 'KOVA Esports' 'Syman Gaming' 'iGame.com' 'iBUYPOWER'\n",
      " 'Wings Gaming' 'Paris Saint-Germain Esports' 'TnC Gaming' 'EHOME'\n",
      " 'CDEC Gaming' 'Mineski' 'Team DK' 'Infamous' 'Keen Gaming' 'TongFu'\n",
      " 'Ad Finem' 'Nigma' 'Team Serenity' 'Orange Esports' 'FlyToMoon'\n",
      " 'Execration' 'Team Aster' 'Rave' 'Geek Fam' 'Team Faceless' 'J.Storm'\n",
      " 'SG e-sports' 'Team NP' 'Vikin.gg' 'Big God' 'Quincy Crew' 'Tigers'\n",
      " 'Escape Gaming' 'beastcoast' 'HyperGloryTeam' 'Team Adroit'\n",
      " 'Scythe Gaming' 'Greek National Team' 'Team Tinker' 'Speed Gaming'\n",
      " '4 Clovers & Lepricon' 'Forward Gaming' 'Power Rangers' 'Team Malaysia'\n",
      " 'Fighting PandaS' 'Planet Odd' 'Ukranian National Team' 'Sigma'\n",
      " 'Team Random' 'Thunderbirds' 'mudgolems' 'Team Archon' 'Team Zenith'\n",
      " 'London Conspiracy' 'Rex Regum Qeon' 'Team Unique' '(monkey) Business'\n",
      " 'Made in Thailand' 'Elite Wolves' 'No Tidehunter' 'Business associates'\n",
      " 'NoPing e-sports' 'OGN Entus' 'Four Angry Men' 'Actoz Stars'\n",
      " 'Infantry Clan' 'Welcome to South Georgo' 'VC Gaming' 'KSV eSports'\n",
      " 'Shoot To Kill' 'Susquehanna Soniqs' 'Luminous Stars' 'Armory Gaming'\n",
      " 'Divine Esports' 'Wildcard Gaming' 'QConfirm' 'Genesis' 'QM Gaming'\n",
      " 'Athletico' 'The Rumblers' 'Buriram United Esports' 'Tornado Energy'\n",
      " 'Northern Lights' 'Sunsister' 'against All authority'\n",
      " 'Purple Mood E-Sport' 'wisdom Nerve victory' 'FURY' 'M19'\n",
      " 'Global Esports Xsset' 'DivisionX Gaming' 'RED Canids' 'WClick'\n",
      " 'Vietnamese National Team' 'CERBERUS Esports' 'Noble eSports' 'ArkAngel'\n",
      " '303 Esports' 'Spacestation Gaming' 'Simplicity Esports' 'Rascal Jester'\n",
      " 'Elgiganten Gaming' 'Argentinian National Team' 'Black Dragons e-Sports'\n",
      " 'Nordavind' 'Team One More' 'Nihilum Gaming' 'Team Gamer Sensei'\n",
      " 'Czech National Team' 'Omnislash' 'Radiance' 'New Zealand National Team'\n",
      " 'Team Hearthlytics' 'Team Oplon' 'Konix eSport' 'Bulgarian National Team'\n",
      " 'Kyoto eSports' 'Team Phantasma' 'ANOX' 'Big3' 'Vicious Syndicate Gaming'\n",
      " 'Portugese National Team' 'Trig Esports' 'Chilean National Team'\n",
      " 'Swiss National Team' 'FC Barcelona' 'Valencia CF eSports'\n",
      " 'Mexican National Team' 'Belgian National Team' 'Romanian National Team'\n",
      " 'eStar Gaming' 'Tempest' 'Gale Force eSports' 'L5' 'Team Naventic'\n",
      " 'Team No Limit' 'Astral Authority' 'Denial Esports' 'COGnitive Gaming'\n",
      " 'Panda Global' 'Brain Power' 'Bob Question Mark' 'Brave e-Sports'\n",
      " 'Dark Sided' 'Reason Gaming' 'El NeXo' 'Hungarian National Team'\n",
      " 'Wind and Rain' 'ePunks' 'Hero JiuJ' 'Bazaar Gaming'\n",
      " 'King of Gamers Club' 'Team Allegiance' 'GameTV' 'Team Flash'\n",
      " 'MEGA Esports']\n",
      "     TeamId                     TeamName  TotalUSDPrize  TotalTournaments  \\\n",
      "500     419                           OG    33810636.13                68   \n",
      "501     102                  Team Liquid    22967431.10                96   \n",
      "502     101                Evil Geniuses    19988670.62               115   \n",
      "503     210                       Newbee    13523736.43                98   \n",
      "504     211                  Team Secret    11492345.09                79   \n",
      "505     169                  Vici Gaming    11182792.92               121   \n",
      "506     227                   LGD Gaming    10072755.42                79   \n",
      "507     185                   Virtus.pro    10037385.11               125   \n",
      "508     507                 Wings Gaming     9739247.35                24   \n",
      "509     623  Paris Saint-Germain Esports     9066946.69                27   \n",
      "\n",
      "       Game                            Genre  \n",
      "500  Dota 2  Multiplayer Online Battle Arena  \n",
      "501  Dota 2  Multiplayer Online Battle Arena  \n",
      "502  Dota 2  Multiplayer Online Battle Arena  \n",
      "503  Dota 2  Multiplayer Online Battle Arena  \n",
      "504  Dota 2  Multiplayer Online Battle Arena  \n",
      "505  Dota 2  Multiplayer Online Battle Arena  \n",
      "506  Dota 2  Multiplayer Online Battle Arena  \n",
      "507  Dota 2  Multiplayer Online Battle Arena  \n",
      "508  Dota 2  Multiplayer Online Battle Arena  \n",
      "509  Dota 2  Multiplayer Online Battle Arena  \n"
     ]
    }
   ],
   "source": [
    "# preview data\n",
    "print(tdf.head(10))\n",
    "\n",
    "# check for nulls\n",
    "print(tdf.isnull().value_counts())\n",
    "\n",
    "# view unique games and teams\n",
    "print(tdf['Game'].unique())\n",
    "print(tdf['TeamName'].unique())\n",
    "\n",
    "# top 10 earning teams\n",
    "print(tdf.nlargest(10, 'TotalUSDPrize'))"
   ]
  },
  {
   "cell_type": "markdown",
   "metadata": {},
   "source": [
    "## Graph 1: Highest Prize Earnings by Game (Pie Chart)"
   ]
  },
  {
   "cell_type": "code",
   "execution_count": 10,
   "metadata": {},
   "outputs": [
    {
     "data": {
      "text/plain": [
       "<Figure size 1500x1000 with 0 Axes>"
      ]
     },
     "metadata": {},
     "output_type": "display_data"
    },
    {
     "data": {
      "image/png": "[encoded data removed]",
      "text/plain": [
       "<Figure size 1500x1000 with 1 Axes>"
      ]
     },
     "metadata": {},
     "output_type": "display_data"
    }
   ],
   "source": [
    "# earnings by game\n",
    "Games_earnings = tdf.groupby(['Game'])['TotalUSDPrize'].sum().sort_values(ascending=False).reset_index()\n",
    "\n",
    "colors = sns.color_palette(\"rocket\", len(Games_earnings))\n",
    "\n",
    "# plot pie chart\n",
    "plt.figure(figsize=(15, 10))\n",
    "fig = plt.figure(figsize=(15, 10))  \n",
    "fig.patch.set_facecolor('white')\n",
    "\n",
    "wedges, texts, autotexts = plt.pie(\n",
    "    Games_earnings['TotalUSDPrize'], \n",
    "    labels=Games_earnings['Game'],\n",
    "    autopct='%1.1f%%', \n",
    "    colors=colors, \n",
    "    startangle=140, \n",
    "    pctdistance=0.85,  \n",
    "    wedgeprops={'edgecolor': 'black'}\n",
    ")\n",
    "\n",
    "# format text colors\n",
    "for text in texts:\n",
    "    text.set_color(\"black\")\n",
    "for autotext in autotexts:\n",
    "    autotext.set_color(\"white\")\n",
    "\n",
    "# add legend and title\n",
    "plt.legend(Games_earnings['Game'], title=\"Games\", loc=\"upper left\", bbox_to_anchor=(1,1))\n",
    "plt.title('Highest Prize Earnings by Game', fontsize=18, fontweight='bold', color='black')\n",
    "plt.tight_layout()\n",
    "plt.show()"
   ]
  },
  {
   "cell_type": "markdown",
   "metadata": {},
   "source": [
    "## Graph 2: Highest Prize Earnings by Genre (Pie Chart)"
   ]
  },
  {
   "cell_type": "code",
   "execution_count": 11,
   "metadata": {},
   "outputs": [
    {
     "data": {
      "text/plain": [
       "<Figure size 1500x1000 with 0 Axes>"
      ]
     },
     "metadata": {},
     "output_type": "display_data"
    },
    {
     "data": {
      "image/png": "[encoded data removed]",
      "text/plain": [
       "<Figure size 1500x1000 with 1 Axes>"
      ]
     },
     "metadata": {},
     "output_type": "display_data"
    }
   ],
   "source": [
    "# earnings by genre\n",
    "Genre_earnings = tdf.groupby(['Genre'])['TotalUSDPrize'].sum().sort_values(ascending=False).reset_index()\n",
    "\n",
    "colors = sns.color_palette(\"rocket\", len(Genre_earnings))\n",
    "\n",
    "# plot pie chart\n",
    "plt.figure(figsize=(15, 10))\n",
    "fig = plt.figure(figsize=(15, 10))  \n",
    "fig.patch.set_facecolor('white')\n",
    "\n",
    "wedges, texts, autotexts = plt.pie(\n",
    "    Genre_earnings['TotalUSDPrize'], \n",
    "    labels=Genre_earnings['Genre'],\n",
    "    autopct='%1.1f%%', \n",
    "    colors=colors, \n",
    "    startangle=140, \n",
    "    pctdistance=0.85,  \n",
    "    wedgeprops={'edgecolor': 'black'}\n",
    ")\n",
    "\n",
    "# format text colors\n",
    "for text in texts:\n",
    "    text.set_color(\"black\")\n",
    "for autotext in autotexts:\n",
    "    autotext.set_color(\"white\")\n",
    "\n",
    "# add legend and title\n",
    "plt.legend(Genre_earnings['Genre'], title=\"Genres\", loc=\"upper left\", bbox_to_anchor=(1,1))\n",
    "plt.title('Highest Prize Earnings by Genre', fontsize=18, fontweight='bold', color='black')\n",
    "plt.tight_layout()\n",
    "plt.show()"
   ]
  },
  {
   "cell_type": "markdown",
   "metadata": {},
   "source": [
    "## Graph 3: Top Countries Prize Distribution by Game (Sunburst Chart)"
   ]
  },
  {
   "cell_type": "code",
   "execution_count": 12,
   "metadata": {},
   "outputs": [
    {
     "name": "stdout",
     "output_type": "stream",
     "text": [
      "CountryCode\n",
      "cn    72391878.56\n",
      "kr    58441733.71\n",
      "us    43099381.78\n",
      "dk    26840800.02\n",
      "se    20770423.01\n",
      "Name: TotalUSDPrize, dtype: float64\n"
     ]
    }
   ],
   "source": [
    "# Top 5 earning countries\n",
    "total_prize_by_country = pdf.groupby('CountryCode')['TotalUSDPrize'].sum().sort_values(ascending=False).head(5)\n",
    "print(total_prize_by_country)"
   ]
  },
  {
   "cell_type": "code",
   "execution_count": null,
   "metadata": {},
   "outputs": [
    {
     "data": {
      "application/vnd.plotly.v1+json": {
       "config": {
        "plotlyServerURL": "https://plot.ly"
       },
       "data": [
        {
         "branchvalues": "total",
         "customdata": [
          [
           "cn"
          ],
          [
           "us"
          ],
          [
           "cn"
          ],
          [
           "kr"
          ],
          [
           "us"
          ],
          [
           "se"
          ],
          [
           "kr"
          ],
          [
           "se"
          ],
          [
           "kr"
          ],
          [
           "cn"
          ],
          [
           "dk"
          ],
          [
           "us"
          ],
          [
           "se"
          ],
          [
           "se"
          ],
          [
           "dk"
          ],
          [
           "kr"
          ],
          [
           "dk"
          ],
          [
           "us"
          ],
          [
           "se"
          ],
          [
           "cn"
          ],
          [
           "kr"
          ],
          [
           "kr"
          ],
          [
           "dk"
          ],
          [
           "dk"
          ],
          [
           "cn"
          ],
          [
           "se"
          ],
          [
           "dk"
          ],
          [
           "cn"
          ],
          [
           "us"
          ],
          [
           "se"
          ],
          [
           "dk"
          ],
          [
           "kr"
          ],
          [
           "se"
          ],
          [
           "dk"
          ],
          [
           "us"
          ],
          [
           "cn"
          ],
          [
           "kr"
          ],
          [
           "cn"
          ],
          [
           "se"
          ],
          [
           "us"
          ],
          [
           "cn"
          ],
          [
           "us"
          ],
          [
           "us"
          ],
          [
           "kr"
          ],
          [
           "us"
          ],
          [
           "cn"
          ],
          [
           "dk"
          ],
          [
           "kr"
          ],
          [
           "se"
          ],
          [
           "us"
          ]
         ],
         "domain": {
          "x": [
           0,
           1
          ],
          "y": [
           0,
           1
          ]
         },
         "hovertemplate": "labels=%{label}<br>TotalUSDPrize=%{value}<br>parent=%{parent}<br>id=%{id}<br>CountryCode=%{customdata[0]}<extra></extra>",
         "ids": [
          "cn/Arena of Valor",
          "us/Heroes of the Storm",
          "cn/Heroes of the Storm",
          "kr/Hearthstone",
          "us/Fortnite",
          "se/PUBG",
          "kr/Dota 2",
          "se/Fortnite",
          "kr/Starcraft II",
          "cn/Starcraft II",
          "dk/League of Legends",
          "us/PUBG",
          "se/Counter-Strike: Global Offensive",
          "se/Starcraft II",
          "dk/Counter-Strike: Global Offensive",
          "kr/PUBG",
          "dk/Hearthstone",
          "us/Arena of Valor",
          "se/Hearthstone",
          "cn/Counter-Strike: Global Offensive",
          "kr/League of Legends",
          "kr/Fortnite",
          "dk/Fortnite",
          "dk/Starcraft II",
          "cn/Dota 2",
          "se/League of Legends",
          "dk/PUBG",
          "cn/PUBG",
          "us/Overwatch",
          "se/Overwatch",
          "dk/Heroes of the Storm",
          "kr/Heroes of the Storm",
          "se/Dota 2",
          "dk/Dota 2",
          "us/League of Legends",
          "cn/Overwatch",
          "kr/Overwatch",
          "cn/League of Legends",
          "se/Heroes of the Storm",
          "us/Hearthstone",
          "cn/Hearthstone",
          "us/Dota 2",
          "us/Counter-Strike: Global Offensive",
          "kr/Arena of Valor",
          "us/Starcraft II",
          "cn",
          "dk",
          "kr",
          "se",
          "us"
         ],
         "labels": [
          "Arena of Valor",
          "Heroes of the Storm",
          "Heroes of the Storm",
          "Hearthstone",
          "Fortnite",
          "PUBG",
          "Dota 2",
          "Fortnite",
          "Starcraft II",
          "Starcraft II",
          "League of Legends",
          "PUBG",
          "Counter-Strike: Global Offensive",
          "Starcraft II",
          "Counter-Strike: Global Offensive",
          "PUBG",
          "Hearthstone",
          "Arena of Valor",
          "Hearthstone",
          "Counter-Strike: Global Offensive",
          "League of Legends",
          "Fortnite",
          "Fortnite",
          "Starcraft II",
          "Dota 2",
          "League of Legends",
          "PUBG",
          "PUBG",
          "Overwatch",
          "Overwatch",
          "Heroes of the Storm",
          "Heroes of the Storm",
          "Dota 2",
          "Dota 2",
          "League of Legends",
          "Overwatch",
          "Overwatch",
          "League of Legends",
          "Heroes of the Storm",
          "Hearthstone",
          "Hearthstone",
          "Dota 2",
          "Counter-Strike: Global Offensive",
          "Arena of Valor",
          "Starcraft II",
          "cn",
          "dk",
          "kr",
          "se",
          "us"
         ],
         "marker": {
          "colors": [
           "rgb(124, 29, 111)",
           "rgb(185, 37, 122)",
           "rgb(124, 29, 111)",
           "rgb(220, 57, 119)",
           "rgb(185, 37, 122)",
           "rgb(227, 79, 111)",
           "rgb(220, 57, 119)",
           "rgb(227, 79, 111)",
           "rgb(220, 57, 119)",
           "rgb(124, 29, 111)",
           "rgb(240, 116, 110)",
           "rgb(185, 37, 122)",
           "rgb(227, 79, 111)",
           "rgb(227, 79, 111)",
           "rgb(240, 116, 110)",
           "rgb(220, 57, 119)",
           "rgb(240, 116, 110)",
           "rgb(185, 37, 122)",
           "rgb(227, 79, 111)",
           "rgb(124, 29, 111)",
           "rgb(220, 57, 119)",
           "rgb(220, 57, 119)",
           "rgb(240, 116, 110)",
           "rgb(240, 116, 110)",
           "rgb(124, 29, 111)",
           "rgb(227, 79, 111)",
           "rgb(240, 116, 110)",
           "rgb(124, 29, 111)",
           "rgb(185, 37, 122)",
           "rgb(227, 79, 111)",
           "rgb(240, 116, 110)",
           "rgb(220, 57, 119)",
           "rgb(227, 79, 111)",
           "rgb(240, 116, 110)",
           "rgb(185, 37, 122)",
           "rgb(124, 29, 111)",
           "rgb(220, 57, 119)",
           "rgb(124, 29, 111)",
           "rgb(227, 79, 111)",
           "rgb(185, 37, 122)",
           "rgb(124, 29, 111)",
           "rgb(185, 37, 122)",
           "rgb(185, 37, 122)",
           "rgb(220, 57, 119)",
           "rgb(185, 37, 122)",
           "rgb(124, 29, 111)",
           "rgb(240, 116, 110)",
           "rgb(220, 57, 119)",
           "rgb(227, 79, 111)",
           "rgb(185, 37, 122)"
          ]
         },
         "name": "",
         "parents": [
          "cn",
          "us",
          "cn",
          "kr",
          "us",
          "se",
          "kr",
          "se",
          "kr",
          "cn",
          "dk",
          "us",
          "se",
          "se",
          "dk",
          "kr",
          "dk",
          "us",
          "se",
          "cn",
          "kr",
          "kr",
          "dk",
          "dk",
          "cn",
          "se",
          "dk",
          "cn",
          "us",
          "se",
          "dk",
          "kr",
          "se",
          "dk",
          "us",
          "cn",
          "kr",
          "cn",
          "se",
          "us",
          "cn",
          "us",
          "us",
          "kr",
          "us",
          "",
          "",
          "",
          "",
          ""
         ],
         "type": "sunburst",
         "values": [
          4026577.1399999997,
          1573720.8,
          1518925.14,
          875167.42,
          20413450.11,
          407004.76,
          1784721.44,
          1358170.42,
          17601874.35,
          1043335.68,
          2131562.55,
          1090065.5,
          7330213.14,
          363965.13,
          11886326.85,
          4451553.56,
          225293.27,
          34190.6,
          492289.41000000003,
          242273.51,
          18708972.51,
          147050,
          876725.84,
          84195.98,
          53582400.36,
          599648.94,
          174957.5,
          2381736.75,
          917231.34,
          319117.45999999996,
          282008.41,
          4802679.99,
          8698635.82,
          11179729.620000001,
          588932.29,
          142999.86000000002,
          9377752.11,
          7374567.6,
          1201377.93,
          2316778.38,
          2079062.52,
          9427431.49,
          6213733.64,
          691962.33,
          523847.63,
          72391878.56,
          26840800.02,
          58441733.71,
          20770423.009999998,
          43099381.78
         ]
        }
       ],
       "layout": {
        "height": 800,
        "legend": {
         "tracegroupgap": 0
        },
        "margin": {
         "t": 60
        },
        "sunburstcolorway": [
         "rgb(124, 29, 111)",
         "rgb(185, 37, 122)",
         "rgb(220, 57, 119)",
         "rgb(227, 79, 111)",
         "rgb(240, 116, 110)",
         "rgb(250, 164, 118)",
         "rgb(252, 222, 156)"
        ],
        "template": {
         "data": {
          "bar": [
           {
            "error_x": {
             "color": "#2a3f5f"
            },
            "error_y": {
             "color": "#2a3f5f"
            },
            "marker": {
             "line": {
              "color": "#E5ECF6",
              "width": 0.5
             },
             "pattern": {
              "fillmode": "overlay",
              "size": 10,
              "solidity": 0.2
             }
            },
            "type": "bar"
           }
          ],
          "barpolar": [
           {
            "marker": {
             "line": {
              "color": "#E5ECF6",
              "width": 0.5
             },
             "pattern": {
              "fillmode": "overlay",
              "size": 10,
              "solidity": 0.2
             }
            },
            "type": "barpolar"
           }
          ],
          "carpet": [
           {
            "aaxis": {
             "endlinecolor": "#2a3f5f",
             "gridcolor": "white",
             "linecolor": "white",
             "minorgridcolor": "white",
             "startlinecolor": "#2a3f5f"
            },
            "baxis": {
             "endlinecolor": "#2a3f5f",
             "gridcolor": "white",
             "linecolor": "white",
             "minorgridcolor": "white",
             "startlinecolor": "#2a3f5f"
            },
            "type": "carpet"
           }
          ],
          "choropleth": [
           {
            "colorbar": {
             "outlinewidth": 0,
             "ticks": ""
            },
            "type": "choropleth"
           }
          ],
          "contour": [
           {
            "colorbar": {
             "outlinewidth": 0,
             "ticks": ""
            },
            "colorscale": [
             [
              0,
              "#0d0887"
             ],
             [
              0.1111111111111111,
              "#46039f"
             ],
             [
              0.2222222222222222,
              "#7201a8"
             ],
             [
              0.3333333333333333,
              "#9c179e"
             ],
             [
              0.4444444444444444,
              "#bd3786"
             ],
             [
              0.5555555555555556,
              "#d8576b"
             ],
             [
              0.6666666666666666,
              "#ed7953"
             ],
             [
              0.7777777777777778,
              "#fb9f3a"
             ],
             [
              0.8888888888888888,
              "#fdca26"
             ],
             [
              1,
              "#f0f921"
             ]
            ],
            "type": "contour"
           }
          ],
          "contourcarpet": [
           {
            "colorbar": {
             "outlinewidth": 0,
             "ticks": ""
            },
            "type": "contourcarpet"
           }
          ],
          "heatmap": [
           {
            "colorbar": {
             "outlinewidth": 0,
             "ticks": ""
            },
            "colorscale": [
             [
              0,
              "#0d0887"
             ],
             [
              0.1111111111111111,
              "#46039f"
             ],
             [
              0.2222222222222222,
              "#7201a8"
             ],
             [
              0.3333333333333333,
              "#9c179e"
             ],
             [
              0.4444444444444444,
              "#bd3786"
             ],
             [
              0.5555555555555556,
              "#d8576b"
             ],
             [
              0.6666666666666666,
              "#ed7953"
             ],
             [
              0.7777777777777778,
              "#fb9f3a"
             ],
             [
              0.8888888888888888,
              "#fdca26"
             ],
             [
              1,
              "#f0f921"
             ]
            ],
            "type": "heatmap"
           }
          ],
          "heatmapgl": [
           {
            "colorbar": {
             "outlinewidth": 0,
             "ticks": ""
            },
            "colorscale": [
             [
              0,
              "#0d0887"
             ],
             [
              0.1111111111111111,
              "#46039f"
             ],
             [
              0.2222222222222222,
              "#7201a8"
             ],
             [
              0.3333333333333333,
              "#9c179e"
             ],
             [
              0.4444444444444444,
              "#bd3786"
             ],
             [
              0.5555555555555556,
              "#d8576b"
             ],
             [
              0.6666666666666666,
              "#ed7953"
             ],
             [
              0.7777777777777778,
              "#fb9f3a"
             ],
             [
              0.8888888888888888,
              "#fdca26"
             ],
             [
              1,
              "#f0f921"
             ]
            ],
            "type": "heatmapgl"
           }
          ],
          "histogram": [
           {
            "marker": {
             "pattern": {
              "fillmode": "overlay",
              "size": 10,
              "solidity": 0.2
             }
            },
            "type": "histogram"
           }
          ],
          "histogram2d": [
           {
            "colorbar": {
             "outlinewidth": 0,
             "ticks": ""
            },
            "colorscale": [
             [
              0,
              "#0d0887"
             ],
             [
              0.1111111111111111,
              "#46039f"
             ],
             [
              0.2222222222222222,
              "#7201a8"
             ],
             [
              0.3333333333333333,
              "#9c179e"
             ],
             [
              0.4444444444444444,
              "#bd3786"
             ],
             [
              0.5555555555555556,
              "#d8576b"
             ],
             [
              0.6666666666666666,
              "#ed7953"
             ],
             [
              0.7777777777777778,
              "#fb9f3a"
             ],
             [
              0.8888888888888888,
              "#fdca26"
             ],
             [
              1,
              "#f0f921"
             ]
            ],
            "type": "histogram2d"
           }
          ],
          "histogram2dcontour": [
           {
            "colorbar": {
             "outlinewidth": 0,
             "ticks": ""
            },
            "colorscale": [
             [
              0,
              "#0d0887"
             ],
             [
              0.1111111111111111,
              "#46039f"
             ],
             [
              0.2222222222222222,
              "#7201a8"
             ],
             [
              0.3333333333333333,
              "#9c179e"
             ],
             [
              0.4444444444444444,
              "#bd3786"
             ],
             [
              0.5555555555555556,
              "#d8576b"
             ],
             [
              0.6666666666666666,
              "#ed7953"
             ],
             [
              0.7777777777777778,
              "#fb9f3a"
             ],
             [
              0.8888888888888888,
              "#fdca26"
             ],
             [
              1,
              "#f0f921"
             ]
            ],
            "type": "histogram2dcontour"
           }
          ],
          "mesh3d": [
           {
            "colorbar": {
             "outlinewidth": 0,
             "ticks": ""
            },
            "type": "mesh3d"
           }
          ],
          "parcoords": [
           {
            "line": {
             "colorbar": {
              "outlinewidth": 0,
              "ticks": ""
             }
            },
            "type": "parcoords"
           }
          ],
          "pie": [
           {
            "automargin": true,
            "type": "pie"
           }
          ],
          "scatter": [
           {
            "fillpattern": {
             "fillmode": "overlay",
             "size": 10,
             "solidity": 0.2
            },
            "type": "scatter"
           }
          ],
          "scatter3d": [
           {
            "line": {
             "colorbar": {
              "outlinewidth": 0,
              "ticks": ""
             }
            },
            "marker": {
             "colorbar": {
              "outlinewidth": 0,
              "ticks": ""
             }
            },
            "type": "scatter3d"
           }
          ],
          "scattercarpet": [
           {
            "marker": {
             "colorbar": {
              "outlinewidth": 0,
              "ticks": ""
             }
            },
            "type": "scattercarpet"
           }
          ],
          "scattergeo": [
           {
            "marker": {
             "colorbar": {
              "outlinewidth": 0,
              "ticks": ""
             }
            },
            "type": "scattergeo"
           }
          ],
          "scattergl": [
           {
            "marker": {
             "colorbar": {
              "outlinewidth": 0,
              "ticks": ""
             }
            },
            "type": "scattergl"
           }
          ],
          "scattermapbox": [
           {
            "marker": {
             "colorbar": {
              "outlinewidth": 0,
              "ticks": ""
             }
            },
            "type": "scattermapbox"
           }
          ],
          "scatterpolar": [
           {
            "marker": {
             "colorbar": {
              "outlinewidth": 0,
              "ticks": ""
             }
            },
            "type": "scatterpolar"
           }
          ],
          "scatterpolargl": [
           {
            "marker": {
             "colorbar": {
              "outlinewidth": 0,
              "ticks": ""
             }
            },
            "type": "scatterpolargl"
           }
          ],
          "scatterternary": [
           {
            "marker": {
             "colorbar": {
              "outlinewidth": 0,
              "ticks": ""
             }
            },
            "type": "scatterternary"
           }
          ],
          "surface": [
           {
            "colorbar": {
             "outlinewidth": 0,
             "ticks": ""
            },
            "colorscale": [
             [
              0,
              "#0d0887"
             ],
             [
              0.1111111111111111,
              "#46039f"
             ],
             [
              0.2222222222222222,
              "#7201a8"
             ],
             [
              0.3333333333333333,
              "#9c179e"
             ],
             [
              0.4444444444444444,
              "#bd3786"
             ],
             [
              0.5555555555555556,
              "#d8576b"
             ],
             [
              0.6666666666666666,
              "#ed7953"
             ],
             [
              0.7777777777777778,
              "#fb9f3a"
             ],
             [
              0.8888888888888888,
              "#fdca26"
             ],
             [
              1,
              "#f0f921"
             ]
            ],
            "type": "surface"
           }
          ],
          "table": [
           {
            "cells": {
             "fill": {
              "color": "#EBF0F8"
             },
             "line": {
              "color": "white"
             }
            },
            "header": {
             "fill": {
              "color": "#C8D4E3"
             },
             "line": {
              "color": "white"
             }
            },
            "type": "table"
           }
          ]
         },
         "layout": {
          "annotationdefaults": {
           "arrowcolor": "#2a3f5f",
           "arrowhead": 0,
           "arrowwidth": 1
          },
          "autotypenumbers": "strict",
          "coloraxis": {
           "colorbar": {
            "outlinewidth": 0,
            "ticks": ""
           }
          },
          "colorscale": {
           "diverging": [
            [
             0,
             "#8e0152"
            ],
            [
             0.1,
             "#c51b7d"
            ],
            [
             0.2,
             "#de77ae"
            ],
            [
             0.3,
             "#f1b6da"
            ],
            [
             0.4,
             "#fde0ef"
            ],
            [
             0.5,
             "#f7f7f7"
            ],
            [
             0.6,
             "#e6f5d0"
            ],
            [
             0.7,
             "#b8e186"
            ],
            [
             0.8,
             "#7fbc41"
            ],
            [
             0.9,
             "#4d9221"
            ],
            [
             1,
             "#276419"
            ]
           ],
           "sequential": [
            [
             0,
             "#0d0887"
            ],
            [
             0.1111111111111111,
             "#46039f"
            ],
            [
             0.2222222222222222,
             "#7201a8"
            ],
            [
             0.3333333333333333,
             "#9c179e"
            ],
            [
             0.4444444444444444,
             "#bd3786"
            ],
            [
             0.5555555555555556,
             "#d8576b"
            ],
            [
             0.6666666666666666,
             "#ed7953"
            ],
            [
             0.7777777777777778,
             "#fb9f3a"
            ],
            [
             0.8888888888888888,
             "#fdca26"
            ],
            [
             1,
             "#f0f921"
            ]
           ],
           "sequentialminus": [
            [
             0,
             "#0d0887"
            ],
            [
             0.1111111111111111,
             "#46039f"
            ],
            [
             0.2222222222222222,
             "#7201a8"
            ],
            [
             0.3333333333333333,
             "#9c179e"
            ],
            [
             0.4444444444444444,
             "#bd3786"
            ],
            [
             0.5555555555555556,
             "#d8576b"
            ],
            [
             0.6666666666666666,
             "#ed7953"
            ],
            [
             0.7777777777777778,
             "#fb9f3a"
            ],
            [
             0.8888888888888888,
             "#fdca26"
            ],
            [
             1,
             "#f0f921"
            ]
           ]
          },
          "colorway": [
           "#636efa",
           "#EF553B",
           "#00cc96",
           "#ab63fa",
           "#FFA15A",
           "#19d3f3",
           "#FF6692",
           "#B6E880",
           "#FF97FF",
           "#FECB52"
          ],
          "font": {
           "color": "#2a3f5f"
          },
          "geo": {
           "bgcolor": "white",
           "lakecolor": "white",
           "landcolor": "#E5ECF6",
           "showlakes": true,
           "showland": true,
           "subunitcolor": "white"
          },
          "hoverlabel": {
           "align": "left"
          },
          "hovermode": "closest",
          "mapbox": {
           "style": "light"
          },
          "paper_bgcolor": "white",
          "plot_bgcolor": "#E5ECF6",
          "polar": {
           "angularaxis": {
            "gridcolor": "white",
            "linecolor": "white",
            "ticks": ""
           },
           "bgcolor": "#E5ECF6",
           "radialaxis": {
            "gridcolor": "white",
            "linecolor": "white",
            "ticks": ""
           }
          },
          "scene": {
           "xaxis": {
            "backgroundcolor": "#E5ECF6",
            "gridcolor": "white",
            "gridwidth": 2,
            "linecolor": "white",
            "showbackground": true,
            "ticks": "",
            "zerolinecolor": "white"
           },
           "yaxis": {
            "backgroundcolor": "#E5ECF6",
            "gridcolor": "white",
            "gridwidth": 2,
            "linecolor": "white",
            "showbackground": true,
            "ticks": "",
            "zerolinecolor": "white"
           },
           "zaxis": {
            "backgroundcolor": "#E5ECF6",
            "gridcolor": "white",
            "gridwidth": 2,
            "linecolor": "white",
            "showbackground": true,
            "ticks": "",
            "zerolinecolor": "white"
           }
          },
          "shapedefaults": {
           "line": {
            "color": "#2a3f5f"
           }
          },
          "ternary": {
           "aaxis": {
            "gridcolor": "white",
            "linecolor": "white",
            "ticks": ""
           },
           "baxis": {
            "gridcolor": "white",
            "linecolor": "white",
            "ticks": ""
           },
           "bgcolor": "#E5ECF6",
           "caxis": {
            "gridcolor": "white",
            "linecolor": "white",
            "ticks": ""
           }
          },
          "title": {
           "x": 0.05
          },
          "xaxis": {
           "automargin": true,
           "gridcolor": "white",
           "linecolor": "white",
           "ticks": "",
           "title": {
            "standoff": 15
           },
           "zerolinecolor": "white",
           "zerolinewidth": 2
          },
          "yaxis": {
           "automargin": true,
           "gridcolor": "white",
           "linecolor": "white",
           "ticks": "",
           "title": {
            "standoff": 15
           },
           "zerolinecolor": "white",
           "zerolinewidth": 2
          }
         }
        },
        "title": {
         "text": "Top Countries Prize Distribution by Game"
        },
        "width": 800
       }
      }
     },
     "metadata": {},
     "output_type": "display_data"
    }
   ],
   "source": [
    "# filter dataset for top 5 countries\n",
    "top_countries = pdf[pdf['CountryCode'].isin(['cn', 'kr', 'us', 'dk', 'se'])]\n",
    "\n",
    "# group by country and game\n",
    "countries_prize = top_countries.groupby(['CountryCode','Game'])['TotalUSDPrize'].sum() \\\n",
    "    .reset_index().sort_values('TotalUSDPrize', ascending=False)\n",
    "\n",
    "# plot sunburst\n",
    "fig = px.sunburst(\n",
    "    countries_prize, \n",
    "    path=['CountryCode', 'Game'], \n",
    "    values='TotalUSDPrize',\n",
    "    color='CountryCode',\n",
    "    color_discrete_sequence=px.colors.sequential.Sunsetdark_r,\n",
    "    width=800, \n",
    "    height=800\n",
    ")\n",
    "\n",
    "fig.update_layout(title='Top Countries Prize Distribution by Game')\n",
    "fig.show()"
   ]
  },
  {
   "cell_type": "markdown",
   "metadata": {},
   "source": [
    "## Graph 4: Earnings by Genre (Boxplot)"
   ]
  },
  {
   "cell_type": "code",
   "execution_count": 13,
   "metadata": {},
   "outputs": [
    {
     "data": {
      "image/png": "[encoded data removed]",
      "text/plain": [
       "<Figure size 1200x800 with 1 Axes>"
      ]
     },
     "metadata": {},
     "output_type": "display_data"
    }
   ],
   "source": [
    "# replace extreme values\n",
    "tdf['Genrex'] = tdf.Genre.where(tdf.TotalUSDPrize < 10000000)\n",
    "\n",
    "plt.figure(figsize=(12, 8))\n",
    "\n",
    "# create boxplot\n",
    "box_plot = sns.boxplot(\n",
    "    x='Genrex',\n",
    "    y='TotalUSDPrize',\n",
    "    data=tdf,\n",
    "    palette=\"rocket\"\n",
    ")\n",
    "\n",
    "# title and labels\n",
    "box_plot.set_title('Earnings by Genre', fontsize=16, fontweight='bold')\n",
    "box_plot.set_xlabel('Genre', fontsize=12)\n",
    "box_plot.set_ylabel('Total USD Prizes', fontsize=12)\n",
    "\n",
    "# rotate and format labels for better readability\n",
    "box_plot.set_xticklabels(box_plot.get_xticklabels(), rotation=30, ha='right')\n",
    "box_plot.yaxis.set_major_formatter(plt.FuncFormatter(lambda x, _: f'${x*1e-6:.1f}M'))\n",
    "\n",
    "plt.tight_layout()\n",
    "plt.show()"
   ]
  },
  {
   "cell_type": "markdown",
   "metadata": {},
   "source": [
    "## Graph 5: Tournaments vs Prize Money (Scatterplot)"
   ]
  },
  {
   "cell_type": "code",
   "execution_count": 14,
   "metadata": {},
   "outputs": [
    {
     "data": {
      "application/vnd.plotly.v1+json": {
       "config": {
        "plotlyServerURL": "https://plot.ly"
       },
       "data": [
        {
         "hovertemplate": "<b>%{hovertext}</b><br><br>Genre=Battle Royale<br>Number of Tournaments=%{x}<br>Total Prize Money (USD)=%{y}<br>BubbleSize=%{marker.size}<extra></extra>",
         "hovertext": [
          "Battle Royale"
         ],
         "legendgroup": "Battle Royale",
         "marker": {
          "color": "rgb(124, 29, 111)",
          "size": [
           51.37633309
          ],
          "sizemode": "area",
          "sizeref": 0.08489666576944443,
          "symbol": "circle"
         },
         "mode": "markers",
         "name": "Battle Royale",
         "orientation": "v",
         "showlegend": true,
         "type": "scatter",
         "x": [
          2057
         ],
         "xaxis": "x",
         "y": [
          51376333.09
         ],
         "yaxis": "y"
        },
        {
         "hovertemplate": "<b>%{hovertext}</b><br><br>Genre=Collectible Card Game<br>Number of Tournaments=%{x}<br>Total Prize Money (USD)=%{y}<br>BubbleSize=%{marker.size}<extra></extra>",
         "hovertext": [
          "Collectible Card Game"
         ],
         "legendgroup": "Collectible Card Game",
         "marker": {
          "color": "rgb(185, 37, 122)",
          "size": [
           10.86452698
          ],
          "sizemode": "area",
          "sizeref": 0.08489666576944443,
          "symbol": "circle"
         },
         "mode": "markers",
         "name": "Collectible Card Game",
         "orientation": "v",
         "showlegend": true,
         "type": "scatter",
         "x": [
          662
         ],
         "xaxis": "x",
         "y": [
          10864526.98
         ],
         "yaxis": "y"
        },
        {
         "hovertemplate": "<b>%{hovertext}</b><br><br>Genre=First-Person Shooter<br>Number of Tournaments=%{x}<br>Total Prize Money (USD)=%{y}<br>BubbleSize=%{marker.size}<extra></extra>",
         "hovertext": [
          "First-Person Shooter"
         ],
         "legendgroup": "First-Person Shooter",
         "marker": {
          "color": "rgb(220, 57, 119)",
          "size": [
           105.31920181999999
          ],
          "sizemode": "area",
          "sizeref": 0.08489666576944443,
          "symbol": "circle"
         },
         "mode": "markers",
         "name": "First-Person Shooter",
         "orientation": "v",
         "showlegend": true,
         "type": "scatter",
         "x": [
          6768
         ],
         "xaxis": "x",
         "y": [
          105319201.82
         ],
         "yaxis": "y"
        },
        {
         "hovertemplate": "<b>%{hovertext}</b><br><br>Genre=Multiplayer Online Battle Arena<br>Number of Tournaments=%{x}<br>Total Prize Money (USD)=%{y}<br>BubbleSize=%{marker.size}<extra></extra>",
         "hovertext": [
          "Multiplayer Online Battle Arena"
         ],
         "legendgroup": "Multiplayer Online Battle Arena",
         "marker": {
          "color": "rgb(227, 79, 111)",
          "size": [
           305.62799677
          ],
          "sizemode": "area",
          "sizeref": 0.08489666576944443,
          "symbol": "circle"
         },
         "mode": "markers",
         "name": "Multiplayer Online Battle Arena",
         "orientation": "v",
         "showlegend": true,
         "type": "scatter",
         "x": [
          7251
         ],
         "xaxis": "x",
         "y": [
          305627996.77
         ],
         "yaxis": "y"
        },
        {
         "hovertemplate": "<b>%{hovertext}</b><br><br>Genre=Strategy<br>Number of Tournaments=%{x}<br>Total Prize Money (USD)=%{y}<br>BubbleSize=%{marker.size}<extra></extra>",
         "hovertext": [
          "Strategy"
         ],
         "legendgroup": "Strategy",
         "marker": {
          "color": "rgb(240, 116, 110)",
          "size": [
           27.85614524
          ],
          "sizemode": "area",
          "sizeref": 0.08489666576944443,
          "symbol": "circle"
         },
         "mode": "markers",
         "name": "Strategy",
         "orientation": "v",
         "showlegend": true,
         "type": "scatter",
         "x": [
          12676
         ],
         "xaxis": "x",
         "y": [
          27856145.24
         ],
         "yaxis": "y"
        }
       ],
       "layout": {
        "height": 600,
        "legend": {
         "itemsizing": "constant",
         "title": {
          "text": "Genre"
         },
         "tracegroupgap": 0
        },
        "template": {
         "data": {
          "bar": [
           {
            "error_x": {
             "color": "#2a3f5f"
            },
            "error_y": {
             "color": "#2a3f5f"
            },
            "marker": {
             "line": {
              "color": "white",
              "width": 0.5
             },
             "pattern": {
              "fillmode": "overlay",
              "size": 10,
              "solidity": 0.2
             }
            },
            "type": "bar"
           }
          ],
          "barpolar": [
           {
            "marker": {
             "line": {
              "color": "white",
              "width": 0.5
             },
             "pattern": {
              "fillmode": "overlay",
              "size": 10,
              "solidity": 0.2
             }
            },
            "type": "barpolar"
           }
          ],
          "carpet": [
           {
            "aaxis": {
             "endlinecolor": "#2a3f5f",
             "gridcolor": "#C8D4E3",
             "linecolor": "#C8D4E3",
             "minorgridcolor": "#C8D4E3",
             "startlinecolor": "#2a3f5f"
            },
            "baxis": {
             "endlinecolor": "#2a3f5f",
             "gridcolor": "#C8D4E3",
             "linecolor": "#C8D4E3",
             "minorgridcolor": "#C8D4E3",
             "startlinecolor": "#2a3f5f"
            },
            "type": "carpet"
           }
          ],
          "choropleth": [
           {
            "colorbar": {
             "outlinewidth": 0,
             "ticks": ""
            },
            "type": "choropleth"
           }
          ],
          "contour": [
           {
            "colorbar": {
             "outlinewidth": 0,
             "ticks": ""
            },
            "colorscale": [
             [
              0,
              "#0d0887"
             ],
             [
              0.1111111111111111,
              "#46039f"
             ],
             [
              0.2222222222222222,
              "#7201a8"
             ],
             [
              0.3333333333333333,
              "#9c179e"
             ],
             [
              0.4444444444444444,
              "#bd3786"
             ],
             [
              0.5555555555555556,
              "#d8576b"
             ],
             [
              0.6666666666666666,
              "#ed7953"
             ],
             [
              0.7777777777777778,
              "#fb9f3a"
             ],
             [
              0.8888888888888888,
              "#fdca26"
             ],
             [
              1,
              "#f0f921"
             ]
            ],
            "type": "contour"
           }
          ],
          "contourcarpet": [
           {
            "colorbar": {
             "outlinewidth": 0,
             "ticks": ""
            },
            "type": "contourcarpet"
           }
          ],
          "heatmap": [
           {
            "colorbar": {
             "outlinewidth": 0,
             "ticks": ""
            },
            "colorscale": [
             [
              0,
              "#0d0887"
             ],
             [
              0.1111111111111111,
              "#46039f"
             ],
             [
              0.2222222222222222,
              "#7201a8"
             ],
             [
              0.3333333333333333,
              "#9c179e"
             ],
             [
              0.4444444444444444,
              "#bd3786"
             ],
             [
              0.5555555555555556,
              "#d8576b"
             ],
             [
              0.6666666666666666,
              "#ed7953"
             ],
             [
              0.7777777777777778,
              "#fb9f3a"
             ],
             [
              0.8888888888888888,
              "#fdca26"
             ],
             [
              1,
              "#f0f921"
             ]
            ],
            "type": "heatmap"
           }
          ],
          "heatmapgl": [
           {
            "colorbar": {
             "outlinewidth": 0,
             "ticks": ""
            },
            "colorscale": [
             [
              0,
              "#0d0887"
             ],
             [
              0.1111111111111111,
              "#46039f"
             ],
             [
              0.2222222222222222,
              "#7201a8"
             ],
             [
              0.3333333333333333,
              "#9c179e"
             ],
             [
              0.4444444444444444,
              "#bd3786"
             ],
             [
              0.5555555555555556,
              "#d8576b"
             ],
             [
              0.6666666666666666,
              "#ed7953"
             ],
             [
              0.7777777777777778,
              "#fb9f3a"
             ],
             [
              0.8888888888888888,
              "#fdca26"
             ],
             [
              1,
              "#f0f921"
             ]
            ],
            "type": "heatmapgl"
           }
          ],
          "histogram": [
           {
            "marker": {
             "pattern": {
              "fillmode": "overlay",
              "size": 10,
              "solidity": 0.2
             }
            },
            "type": "histogram"
           }
          ],
          "histogram2d": [
           {
            "colorbar": {
             "outlinewidth": 0,
             "ticks": ""
            },
            "colorscale": [
             [
              0,
              "#0d0887"
             ],
             [
              0.1111111111111111,
              "#46039f"
             ],
             [
              0.2222222222222222,
              "#7201a8"
             ],
             [
              0.3333333333333333,
              "#9c179e"
             ],
             [
              0.4444444444444444,
              "#bd3786"
             ],
             [
              0.5555555555555556,
              "#d8576b"
             ],
             [
              0.6666666666666666,
              "#ed7953"
             ],
             [
              0.7777777777777778,
              "#fb9f3a"
             ],
             [
              0.8888888888888888,
              "#fdca26"
             ],
             [
              1,
              "#f0f921"
             ]
            ],
            "type": "histogram2d"
           }
          ],
          "histogram2dcontour": [
           {
            "colorbar": {
             "outlinewidth": 0,
             "ticks": ""
            },
            "colorscale": [
             [
              0,
              "#0d0887"
             ],
             [
              0.1111111111111111,
              "#46039f"
             ],
             [
              0.2222222222222222,
              "#7201a8"
             ],
             [
              0.3333333333333333,
              "#9c179e"
             ],
             [
              0.4444444444444444,
              "#bd3786"
             ],
             [
              0.5555555555555556,
              "#d8576b"
             ],
             [
              0.6666666666666666,
              "#ed7953"
             ],
             [
              0.7777777777777778,
              "#fb9f3a"
             ],
             [
              0.8888888888888888,
              "#fdca26"
             ],
             [
              1,
              "#f0f921"
             ]
            ],
            "type": "histogram2dcontour"
           }
          ],
          "mesh3d": [
           {
            "colorbar": {
             "outlinewidth": 0,
             "ticks": ""
            },
            "type": "mesh3d"
           }
          ],
          "parcoords": [
           {
            "line": {
             "colorbar": {
              "outlinewidth": 0,
              "ticks": ""
             }
            },
            "type": "parcoords"
           }
          ],
          "pie": [
           {
            "automargin": true,
            "type": "pie"
           }
          ],
          "scatter": [
           {
            "fillpattern": {
             "fillmode": "overlay",
             "size": 10,
             "solidity": 0.2
            },
            "type": "scatter"
           }
          ],
          "scatter3d": [
           {
            "line": {
             "colorbar": {
              "outlinewidth": 0,
              "ticks": ""
             }
            },
            "marker": {
             "colorbar": {
              "outlinewidth": 0,
              "ticks": ""
             }
            },
            "type": "scatter3d"
           }
          ],
          "scattercarpet": [
           {
            "marker": {
             "colorbar": {
              "outlinewidth": 0,
              "ticks": ""
             }
            },
            "type": "scattercarpet"
           }
          ],
          "scattergeo": [
           {
            "marker": {
             "colorbar": {
              "outlinewidth": 0,
              "ticks": ""
             }
            },
            "type": "scattergeo"
           }
          ],
          "scattergl": [
           {
            "marker": {
             "colorbar": {
              "outlinewidth": 0,
              "ticks": ""
             }
            },
            "type": "scattergl"
           }
          ],
          "scattermapbox": [
           {
            "marker": {
             "colorbar": {
              "outlinewidth": 0,
              "ticks": ""
             }
            },
            "type": "scattermapbox"
           }
          ],
          "scatterpolar": [
           {
            "marker": {
             "colorbar": {
              "outlinewidth": 0,
              "ticks": ""
             }
            },
            "type": "scatterpolar"
           }
          ],
          "scatterpolargl": [
           {
            "marker": {
             "colorbar": {
              "outlinewidth": 0,
              "ticks": ""
             }
            },
            "type": "scatterpolargl"
           }
          ],
          "scatterternary": [
           {
            "marker": {
             "colorbar": {
              "outlinewidth": 0,
              "ticks": ""
             }
            },
            "type": "scatterternary"
           }
          ],
          "surface": [
           {
            "colorbar": {
             "outlinewidth": 0,
             "ticks": ""
            },
            "colorscale": [
             [
              0,
              "#0d0887"
             ],
             [
              0.1111111111111111,
              "#46039f"
             ],
             [
              0.2222222222222222,
              "#7201a8"
             ],
             [
              0.3333333333333333,
              "#9c179e"
             ],
             [
              0.4444444444444444,
              "#bd3786"
             ],
             [
              0.5555555555555556,
              "#d8576b"
             ],
             [
              0.6666666666666666,
              "#ed7953"
             ],
             [
              0.7777777777777778,
              "#fb9f3a"
             ],
             [
              0.8888888888888888,
              "#fdca26"
             ],
             [
              1,
              "#f0f921"
             ]
            ],
            "type": "surface"
           }
          ],
          "table": [
           {
            "cells": {
             "fill": {
              "color": "#EBF0F8"
             },
             "line": {
              "color": "white"
             }
            },
            "header": {
             "fill": {
              "color": "#C8D4E3"
             },
             "line": {
              "color": "white"
             }
            },
            "type": "table"
           }
          ]
         },
         "layout": {
          "annotationdefaults": {
           "arrowcolor": "#2a3f5f",
           "arrowhead": 0,
           "arrowwidth": 1
          },
          "autotypenumbers": "strict",
          "coloraxis": {
           "colorbar": {
            "outlinewidth": 0,
            "ticks": ""
           }
          },
          "colorscale": {
           "diverging": [
            [
             0,
             "#8e0152"
            ],
            [
             0.1,
             "#c51b7d"
            ],
            [
             0.2,
             "#de77ae"
            ],
            [
             0.3,
             "#f1b6da"
            ],
            [
             0.4,
             "#fde0ef"
            ],
            [
             0.5,
             "#f7f7f7"
            ],
            [
             0.6,
             "#e6f5d0"
            ],
            [
             0.7,
             "#b8e186"
            ],
            [
             0.8,
             "#7fbc41"
            ],
            [
             0.9,
             "#4d9221"
            ],
            [
             1,
             "#276419"
            ]
           ],
           "sequential": [
            [
             0,
             "#0d0887"
            ],
            [
             0.1111111111111111,
             "#46039f"
            ],
            [
             0.2222222222222222,
             "#7201a8"
            ],
            [
             0.3333333333333333,
             "#9c179e"
            ],
            [
             0.4444444444444444,
             "#bd3786"
            ],
            [
             0.5555555555555556,
             "#d8576b"
            ],
            [
             0.6666666666666666,
             "#ed7953"
            ],
            [
             0.7777777777777778,
             "#fb9f3a"
            ],
            [
             0.8888888888888888,
             "#fdca26"
            ],
            [
             1,
             "#f0f921"
            ]
           ],
           "sequentialminus": [
            [
             0,
             "#0d0887"
            ],
            [
             0.1111111111111111,
             "#46039f"
            ],
            [
             0.2222222222222222,
             "#7201a8"
            ],
            [
             0.3333333333333333,
             "#9c179e"
            ],
            [
             0.4444444444444444,
             "#bd3786"
            ],
            [
             0.5555555555555556,
             "#d8576b"
            ],
            [
             0.6666666666666666,
             "#ed7953"
            ],
            [
             0.7777777777777778,
             "#fb9f3a"
            ],
            [
             0.8888888888888888,
             "#fdca26"
            ],
            [
             1,
             "#f0f921"
            ]
           ]
          },
          "colorway": [
           "#636efa",
           "#EF553B",
           "#00cc96",
           "#ab63fa",
           "#FFA15A",
           "#19d3f3",
           "#FF6692",
           "#B6E880",
           "#FF97FF",
           "#FECB52"
          ],
          "font": {
           "color": "#2a3f5f"
          },
          "geo": {
           "bgcolor": "white",
           "lakecolor": "white",
           "landcolor": "white",
           "showlakes": true,
           "showland": true,
           "subunitcolor": "#C8D4E3"
          },
          "hoverlabel": {
           "align": "left"
          },
          "hovermode": "closest",
          "mapbox": {
           "style": "light"
          },
          "paper_bgcolor": "white",
          "plot_bgcolor": "white",
          "polar": {
           "angularaxis": {
            "gridcolor": "#EBF0F8",
            "linecolor": "#EBF0F8",
            "ticks": ""
           },
           "bgcolor": "white",
           "radialaxis": {
            "gridcolor": "#EBF0F8",
            "linecolor": "#EBF0F8",
            "ticks": ""
           }
          },
          "scene": {
           "xaxis": {
            "backgroundcolor": "white",
            "gridcolor": "#DFE8F3",
            "gridwidth": 2,
            "linecolor": "#EBF0F8",
            "showbackground": true,
            "ticks": "",
            "zerolinecolor": "#EBF0F8"
           },
           "yaxis": {
            "backgroundcolor": "white",
            "gridcolor": "#DFE8F3",
            "gridwidth": 2,
            "linecolor": "#EBF0F8",
            "showbackground": true,
            "ticks": "",
            "zerolinecolor": "#EBF0F8"
           },
           "zaxis": {
            "backgroundcolor": "white",
            "gridcolor": "#DFE8F3",
            "gridwidth": 2,
            "linecolor": "#EBF0F8",
            "showbackground": true,
            "ticks": "",
            "zerolinecolor": "#EBF0F8"
           }
          },
          "shapedefaults": {
           "line": {
            "color": "#2a3f5f"
           }
          },
          "ternary": {
           "aaxis": {
            "gridcolor": "#DFE8F3",
            "linecolor": "#A2B1C6",
            "ticks": ""
           },
           "baxis": {
            "gridcolor": "#DFE8F3",
            "linecolor": "#A2B1C6",
            "ticks": ""
           },
           "bgcolor": "white",
           "caxis": {
            "gridcolor": "#DFE8F3",
            "linecolor": "#A2B1C6",
            "ticks": ""
           }
          },
          "title": {
           "x": 0.05
          },
          "xaxis": {
           "automargin": true,
           "gridcolor": "#EBF0F8",
           "linecolor": "#EBF0F8",
           "ticks": "",
           "title": {
            "standoff": 15
           },
           "zerolinecolor": "#EBF0F8",
           "zerolinewidth": 2
          },
          "yaxis": {
           "automargin": true,
           "gridcolor": "#EBF0F8",
           "linecolor": "#EBF0F8",
           "ticks": "",
           "title": {
            "standoff": 15
           },
           "zerolinecolor": "#EBF0F8",
           "zerolinewidth": 2
          }
         }
        },
        "title": {
         "font": {
          "size": 20
         },
         "text": "Tournaments vs Prize Money"
        },
        "width": 1000,
        "xaxis": {
         "anchor": "y",
         "domain": [
          0,
          1
         ],
         "title": {
          "text": "Number of Tournaments"
         }
        },
        "yaxis": {
         "anchor": "x",
         "domain": [
          0,
          1
         ],
         "title": {
          "text": "Total Prize Money (USD)"
         }
        }
       }
      }
     },
     "metadata": {},
     "output_type": "display_data"
    }
   ],
   "source": [
    "# group by genre and aggregate total prize money and tournaments\n",
    "genre_summary = tdf.groupby('Genre').agg({\n",
    "    'TotalUSDPrize': 'sum',\n",
    "    'TotalTournaments': 'sum'\n",
    "}).reset_index()\n",
    "\n",
    "# size column for bubble size, scaled to millions\n",
    "genre_summary['BubbleSize'] = genre_summary['TotalUSDPrize'] / 1e6\n",
    "\n",
    "# create scatterplot\n",
    "fig = px.scatter(\n",
    "    genre_summary,\n",
    "    x='TotalTournaments',\n",
    "    y='TotalUSDPrize',\n",
    "    size='BubbleSize',\n",
    "    color='Genre',\n",
    "    color_discrete_sequence=px.colors.sequential.Sunsetdark_r,\n",
    "    hover_name='Genre',\n",
    "    size_max=60,\n",
    "    title='Tournaments vs Prize Money',\n",
    "    labels={\n",
    "        'TotalUSDPrize': 'Total Prize Money (USD)',\n",
    "        'TotalTournaments': 'Number of Tournaments'\n",
    "    }\n",
    ")\n",
    "\n",
    "# update layout for better readability\n",
    "fig.update_layout(\n",
    "    template='plotly_white',\n",
    "    title_font_size=20,\n",
    "    width=1000,\n",
    "    height=600\n",
    ")\n",
    "\n",
    "fig.show()"
   ]
  },
  {
   "cell_type": "markdown",
   "metadata": {},
   "source": [
    "## Graph 6: Total Prize Earnings by Game (Bar Plot)"
   ]
  },
  {
   "cell_type": "code",
   "execution_count": 15,
   "metadata": {},
   "outputs": [
    {
     "data": {
      "image/png": "[encoded data removed]",
      "text/plain": [
       "<Figure size 1200x800 with 1 Axes>"
      ]
     },
     "metadata": {},
     "output_type": "display_data"
    }
   ],
   "source": [
    "colors = sns.color_palette(\"rocket\", len(Games_earnings))\n",
    "\n",
    "# plot bar chart for total prize earnings by game\n",
    "plt.figure(figsize=(12, 8))\n",
    "bar_plot = sns.barplot(data=Games_earnings, x='TotalUSDPrize', y='Game', palette=colors)\n",
    "\n",
    "for i, val in enumerate(Games_earnings['TotalUSDPrize']):\n",
    "    plt.text(val + 5000000, i, f\"${val/1e6:.1f}M\", va='center', fontsize=10)\n",
    "\n",
    "# title and labels\n",
    "plt.title('Total Prize Earnings by Game', fontsize=18, fontweight='bold')\n",
    "plt.xlabel('Total USD Prize Money')\n",
    "plt.ylabel('Game')\n",
    "\n",
    "# create legend for games\n",
    "for i, genre in enumerate(Games_earnings['Game']):\n",
    "    bar_plot.bar(i, 0, color=colors[i], label=genre)\n",
    "plt.legend(title='Game', loc='center left', bbox_to_anchor=(1, 0.5))\n",
    "\n",
    "plt.tight_layout()\n",
    "plt.show()"
   ]
  }
 ],
 "metadata": {
  "kernelspec": {
   "display_name": "base",
   "language": "python",
   "name": "python3"
  },
  "language_info": {
   "codemirror_mode": {
    "name": "ipython",
    "version": 3
   },
   "file_extension": ".py",
   "mimetype": "text/x-python",
   "name": "python",
   "nbconvert_exporter": "python",
   "pygments_lexer": "ipython3",
   "version": "3.11.7"
  }
 },
 "nbformat": 4,
 "nbformat_minor": 2
}
